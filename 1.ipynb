{
 "cells": [
  {
   "cell_type": "code",
   "execution_count": null,
   "metadata": {},
   "outputs": [],
   "source": [
    "import win32con\n",
    "import win32clipboard\n",
    "\n",
    "def get_clip():\n",
    "    win32clipboard.OpenClipboard()\n",
    "    text = win32clipboard.GetClipboardData(win32con.CF_UNICODETEXT)\n",
    "    win32clipboard.CloseClipboard()\n",
    "    return text\n",
    "\n",
    "def set_clip(s):\n",
    "    win32clipboard.OpenClipboard()\n",
    "    win32clipboard.EmptyClipboard()\n",
    "    win32clipboard.SetClipboardData(win32con.CF_UNICODETEXT, s)\n",
    "    win32clipboard.CloseClipboard()"
   ]
  },
  {
   "cell_type": "code",
   "execution_count": null,
   "metadata": {},
   "outputs": [],
   "source": [
    "def uneascape(s):\n",
    "    return s.encode('utf8').decode('unicode-escape')\n",
    "\n",
    "import re\n",
    "import time\n",
    "\n",
    "last_text = \"\"\n",
    "while True:\n",
    "    x = get_clip()\n",
    "    if(x==\"exit\"):\n",
    "        break\n",
    "    if x!= \"\" and x != last_text and x.find(r'\\u')>=0:\n",
    "        x=uneascape(x)\n",
    "        print(x)\n",
    "        set_clip(x)\n",
    "    last_text = x\n",
    "    time.sleep(1.0)\n"
   ]
  }
 ],
 "metadata": {
  "language_info": {
   "codemirror_mode": {
    "name": "ipython",
    "version": 3
   },
   "file_extension": ".py",
   "mimetype": "text/x-python",
   "name": "python",
   "nbconvert_exporter": "python",
   "pygments_lexer": "ipython3",
   "version": "3.7.3-final"
  },
  "orig_nbformat": 2,
  "kernelspec": {
   "name": "python37364bit059238fa372a4cb3a5cc4d3a332abbf1",
   "display_name": "Python 3.7.3 64-bit"
  }
 },
 "nbformat": 4,
 "nbformat_minor": 2
}