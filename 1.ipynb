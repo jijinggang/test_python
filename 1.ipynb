{
 "cells": [
  {
   "cell_type": "code",
   "execution_count": 31,
   "metadata": {},
   "outputs": [
    {
     "output_type": "stream",
     "name": "stdout",
     "text": "25.6 ms ± 148 µs per loop (mean ± std. dev. of 7 runs, 10 loops each)\n4.17 µs ± 105 ns per loop (mean ± std. dev. of 7 runs, 100000 loops each)\n"
    }
   ],
   "source": [
    "from numba import jit\n",
    "def f1(n):\n",
    "    result = 1\n",
    "    for i in range(1,n+1):\n",
    "        result *= n\n",
    "    return result\n",
    "\n",
    "@jit(nopython = True)\n",
    "def f2(n):\n",
    "    result = 1\n",
    "    for i in range(1,n+1):\n",
    "        result *= n\n",
    "    return result\n",
    "\n",
    "%timeit f1(10000)\n",
    "%timeit f2(10000)  "
   ]
  }
 ],
 "metadata": {
  "language_info": {
   "codemirror_mode": {
    "name": "ipython",
    "version": 3
   },
   "file_extension": ".py",
   "mimetype": "text/x-python",
   "name": "python",
   "nbconvert_exporter": "python",
   "pygments_lexer": "ipython3",
   "version": "3.7.3-final"
  },
  "orig_nbformat": 2,
  "kernelspec": {
   "name": "python37364bit059238fa372a4cb3a5cc4d3a332abbf1",
   "display_name": "Python 3.7.3 64-bit"
  }
 },
 "nbformat": 4,
 "nbformat_minor": 2
}